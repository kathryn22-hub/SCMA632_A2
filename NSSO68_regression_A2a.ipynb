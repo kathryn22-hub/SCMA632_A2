{
 "cells": [
  {
   "cell_type": "code",
   "execution_count": 1,
   "id": "8e8e12dd",
   "metadata": {},
   "outputs": [],
   "source": [
    "import pandas as pd\n",
    "import numpy as np\n",
    "import statsmodels.api as sm\n",
    "from statsmodels.stats.outliers_influence import variance_inflation_factor\n",
    "import os"
   ]
  },
  {
   "cell_type": "code",
   "execution_count": 3,
   "id": "5ac09665",
   "metadata": {},
   "outputs": [
    {
     "name": "stdout",
     "output_type": "stream",
     "text": [
      "D:\\Assignments_SCMA632\\Data\n"
     ]
    }
   ],
   "source": [
    "os.chdir('D:\\\\Assignments_SCMA632\\\\Data')\n",
    "print(os.getcwd())"
   ]
  },
  {
   "cell_type": "code",
   "execution_count": 5,
   "id": "23308074",
   "metadata": {},
   "outputs": [],
   "source": [
    "data = pd.read_csv(\"NSSO68.csv\",low_memory=False)"
   ]
  },
  {
   "cell_type": "code",
   "execution_count": 35,
   "id": "c404a3e6",
   "metadata": {},
   "outputs": [
    {
     "name": "stdout",
     "output_type": "stream",
     "text": [
      "       foodtotal_q  MPCE_MRP  MPCE_URP  Age  Possess_ration_card  Education\n",
      "36170    34.710310   3580.58   5247.40   75                  1.0        8.0\n",
      "36171    36.220200   3310.18   4071.80   60                  1.0       10.0\n",
      "36172    25.762850   1771.55   2031.00   33                  1.0        5.0\n",
      "36173    25.325388   2251.16   2674.00   42                  1.0       12.0\n",
      "36174    54.200567   4301.58   3628.33   50                  1.0       10.0\n",
      "...            ...       ...       ...  ...                  ...        ...\n",
      "99553    28.717183   2330.53   2357.33   30                  1.0        8.0\n",
      "99554    35.450225   2912.91   2249.25   36                  1.0        6.0\n",
      "99555    31.200567   2006.89   2028.67   50                  1.0        1.0\n",
      "99556    30.875575   2666.17   2217.75   22                  1.0       10.0\n",
      "99557    30.650250   2326.45   2114.50   30                  2.0       10.0\n",
      "\n",
      "[3118 rows x 6 columns]\n"
     ]
    }
   ],
   "source": [
    "subset_data = data[data['state_1'] == 'Pun'][['foodtotal_q', 'MPCE_MRP', 'MPCE_URP', 'Age',  'Possess_ration_card', 'Education']]\n",
    "print(subset_data)"
   ]
  },
  {
   "cell_type": "code",
   "execution_count": 36,
   "id": "ee843726",
   "metadata": {},
   "outputs": [
    {
     "name": "stdout",
     "output_type": "stream",
     "text": [
      "0\n",
      "0\n",
      "0\n",
      "0\n",
      "0\n"
     ]
    }
   ],
   "source": [
    "print(subset_data['MPCE_MRP'].isna().sum())\n",
    "print(subset_data['MPCE_URP'].isna().sum())\n",
    "print(subset_data['Age'].isna().sum())\n",
    "print(subset_data['Possess_ration_card'].isna().sum())\n",
    "print(subset_data['Education'].isna().sum())\n"
   ]
  },
  {
   "cell_type": "code",
   "execution_count": 37,
   "id": "34f6dd32",
   "metadata": {},
   "outputs": [],
   "source": [
    "def impute_with_mean(df, columns):\n",
    "    for column in columns:\n",
    "        df[column].fillna(df[column].mean(), inplace=True)\n",
    "    return df"
   ]
  },
  {
   "cell_type": "code",
   "execution_count": 38,
   "id": "0e1a1d6d",
   "metadata": {},
   "outputs": [],
   "source": [
    "columns_to_impute = ['Education']\n"
   ]
  },
  {
   "cell_type": "code",
   "execution_count": 39,
   "id": "34aae6fe",
   "metadata": {},
   "outputs": [],
   "source": [
    "data = impute_with_mean(data, columns_to_impute)"
   ]
  },
  {
   "cell_type": "code",
   "execution_count": 40,
   "id": "e5e7a674",
   "metadata": {},
   "outputs": [
    {
     "name": "stdout",
     "output_type": "stream",
     "text": [
      "0\n"
     ]
    }
   ],
   "source": [
    "print(data['Education'].isna().sum())\n",
    "\n"
   ]
  },
  {
   "cell_type": "code",
   "execution_count": 41,
   "id": "2b087671",
   "metadata": {},
   "outputs": [],
   "source": [
    "X = subset_data[['MPCE_MRP', 'MPCE_URP', 'Age', 'Possess_ration_card', 'Education']]\n",
    "y = subset_data['foodtotal_q']"
   ]
  },
  {
   "cell_type": "code",
   "execution_count": 42,
   "id": "4481e537",
   "metadata": {},
   "outputs": [],
   "source": [
    "X = sm.add_constant(X)"
   ]
  },
  {
   "cell_type": "code",
   "execution_count": 43,
   "id": "6751c4ff",
   "metadata": {},
   "outputs": [
    {
     "name": "stdout",
     "output_type": "stream",
     "text": [
      "const                  0\n",
      "MPCE_MRP               0\n",
      "MPCE_URP               0\n",
      "Age                    0\n",
      "Possess_ration_card    0\n",
      "Education              0\n",
      "dtype: int64\n",
      "0\n"
     ]
    }
   ],
   "source": [
    "print(X.isna().sum())\n",
    "print(y.isna().sum())"
   ]
  },
  {
   "cell_type": "code",
   "execution_count": 44,
   "id": "1936510b",
   "metadata": {},
   "outputs": [],
   "source": [
    "model = sm.OLS(y, X).fit()"
   ]
  },
  {
   "cell_type": "code",
   "execution_count": 45,
   "id": "c6ecce87",
   "metadata": {},
   "outputs": [
    {
     "name": "stdout",
     "output_type": "stream",
     "text": [
      "                            OLS Regression Results                            \n",
      "==============================================================================\n",
      "Dep. Variable:            foodtotal_q   R-squared:                       0.243\n",
      "Model:                            OLS   Adj. R-squared:                  0.242\n",
      "Method:                 Least Squares   F-statistic:                     200.0\n",
      "Date:                Sun, 23 Jun 2024   Prob (F-statistic):          2.67e-185\n",
      "Time:                        16:58:41   Log-Likelihood:                -11781.\n",
      "No. Observations:                3118   AIC:                         2.357e+04\n",
      "Df Residuals:                    3112   BIC:                         2.361e+04\n",
      "Df Model:                           5                                         \n",
      "Covariance Type:            nonrobust                                         \n",
      "=======================================================================================\n",
      "                          coef    std err          t      P>|t|      [0.025      0.975]\n",
      "---------------------------------------------------------------------------------------\n",
      "const                  25.5034      1.167     21.857      0.000      23.216      27.791\n",
      "MPCE_MRP                0.0021      0.000     18.809      0.000       0.002       0.002\n",
      "MPCE_URP                0.0004    7.7e-05      5.074      0.000       0.000       0.001\n",
      "Age                     0.0823      0.015      5.658      0.000       0.054       0.111\n",
      "Possess_ration_card    -4.2235      0.511     -8.269      0.000      -5.225      -3.222\n",
      "Education               0.0971      0.057      1.692      0.091      -0.015       0.210\n",
      "==============================================================================\n",
      "Omnibus:                      970.769   Durbin-Watson:                   1.748\n",
      "Prob(Omnibus):                  0.000   Jarque-Bera (JB):            20461.487\n",
      "Skew:                           0.960   Prob(JB):                         0.00\n",
      "Kurtosis:                      15.402   Cond. No.                     3.30e+04\n",
      "==============================================================================\n",
      "\n",
      "Notes:\n",
      "[1] Standard Errors assume that the covariance matrix of the errors is correctly specified.\n",
      "[2] The condition number is large, 3.3e+04. This might indicate that there are\n",
      "strong multicollinearity or other numerical problems.\n"
     ]
    }
   ],
   "source": [
    "print(model.summary())"
   ]
  },
  {
   "cell_type": "code",
   "execution_count": 46,
   "id": "c8d4636a",
   "metadata": {},
   "outputs": [
    {
     "name": "stdout",
     "output_type": "stream",
     "text": [
      "               feature        VIF\n",
      "0                const  37.824615\n",
      "1             MPCE_MRP   1.638421\n",
      "2             MPCE_URP   1.543339\n",
      "3                  Age   1.171879\n",
      "4  Possess_ration_card   1.127740\n",
      "5            Education   1.171631\n"
     ]
    }
   ],
   "source": [
    "vif_data = pd.DataFrame()\n",
    "vif_data['feature'] = X.columns\n",
    "vif_data['VIF'] = [variance_inflation_factor(X.values, i) for i in range(X.shape[1])]\n",
    "print(vif_data)"
   ]
  },
  {
   "cell_type": "code",
   "execution_count": 47,
   "id": "edbab4eb",
   "metadata": {},
   "outputs": [],
   "source": [
    "coefficients = model.params"
   ]
  },
  {
   "cell_type": "code",
   "execution_count": 48,
   "id": "b870276c",
   "metadata": {},
   "outputs": [
    {
     "name": "stdout",
     "output_type": "stream",
     "text": [
      "y = 25.5 + 0.00205319*x1 + 0.0003909*x2 + 0.08228068*x3 + -4.22349364*x4 + 0.0971413*x5\n"
     ]
    }
   ],
   "source": [
    "equation = f\"y = {round(coefficients[0], 2)}\"\n",
    "for i in range(1, len(coefficients)):\n",
    "    equation += f\" + {round(coefficients[i], 8)}*x{i}\"\n",
    "print(equation)"
   ]
  },
  {
   "cell_type": "code",
   "execution_count": 49,
   "id": "8bdc8490",
   "metadata": {},
   "outputs": [
    {
     "name": "stdout",
     "output_type": "stream",
     "text": [
      "36170    3580.58\n",
      "Name: MPCE_MRP, dtype: float64\n",
      "36170    5247.4\n",
      "Name: MPCE_URP, dtype: float64\n",
      "36170    75\n",
      "Name: Age, dtype: int64\n",
      "36170    1.0\n",
      "Name: Possess_ration_card, dtype: float64\n",
      "36170    8.0\n",
      "Name: Education, dtype: float64\n",
      "36170    34.71031\n",
      "Name: foodtotal_q, dtype: float64\n"
     ]
    }
   ],
   "source": [
    "print(subset_data['MPCE_MRP'].head(1))\n",
    "print(subset_data['MPCE_URP'].head(1))\n",
    "print(subset_data['Age'].head(1))\n",
    "print(subset_data['Possess_ration_card'].head(1))\n",
    "print(subset_data['Education'].head(1))\n",
    "print(subset_data['foodtotal_q'].head(1))"
   ]
  },
  {
   "cell_type": "code",
   "execution_count": null,
   "id": "a4de2f7f",
   "metadata": {},
   "outputs": [],
   "source": []
  }
 ],
 "metadata": {
  "kernelspec": {
   "display_name": "Python 3 (ipykernel)",
   "language": "python",
   "name": "python3"
  },
  "language_info": {
   "codemirror_mode": {
    "name": "ipython",
    "version": 3
   },
   "file_extension": ".py",
   "mimetype": "text/x-python",
   "name": "python",
   "nbconvert_exporter": "python",
   "pygments_lexer": "ipython3",
   "version": "3.11.5"
  }
 },
 "nbformat": 4,
 "nbformat_minor": 5
}
